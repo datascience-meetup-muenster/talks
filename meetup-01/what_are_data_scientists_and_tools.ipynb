{
 "cells": [
  {
   "cell_type": "markdown",
   "metadata": {},
   "source": [
    "# WHAT ARE DATA SCIENTISTS AND WHICH TOOLS DO THEY USE?"
   ]
  },
  {
   "cell_type": "markdown",
   "metadata": {},
   "source": [
    "### Dr. Tobias Pfaff"
   ]
  },
  {
   "cell_type": "markdown",
   "metadata": {},
   "source": [
    "<hr>"
   ]
  },
  {
   "cell_type": "markdown",
   "metadata": {
    "collapsed": true
   },
   "source": [
    "3 min intro\n",
    "### - what are you currently doing with data science?\n",
    "### - what were the main steps of your data science learning path?\n",
    "### - if you had to pick a single step that contributed most to your knowledge, which one was it?\n",
    "### - in the most recent project what stack did you use?\n",
    "### - which are your favorite resources for staying up-to-date?\n"
   ]
  },
  {
   "cell_type": "markdown",
   "metadata": {},
   "source": [
    "<hr>"
   ]
  },
  {
   "cell_type": "markdown",
   "metadata": {},
   "source": [
    "![title](img/buzzword_meat_grinder.png)\n",
    "[Source](http://www.youtube.com/watch?v=aMDe5pODkB0&feature=share&list=PLokLecCHtd-9EnGjHRqgFIW0pm5P60rbL)"
   ]
  },
  {
   "cell_type": "markdown",
   "metadata": {
    "collapsed": true
   },
   "source": [
    "![title](img/terms_chronology.png)\n",
    "[Source](http://de.slideshare.net/gpiatetskyshapiro/gps-datasciencenotjustbigdatafinal)"
   ]
  },
  {
   "cell_type": "markdown",
   "metadata": {},
   "source": [
    "![title](img/patterns_zoom_in.png)\n",
    "<hr>"
   ]
  },
  {
   "cell_type": "markdown",
   "metadata": {},
   "source": [
    "![title](img/patterns_zoom_out.png)\n",
    "Source: J. Howard, kaggle.com"
   ]
  },
  {
   "cell_type": "markdown",
   "metadata": {},
   "source": [
    "![title](img/process.png)\n",
    "Source: Harvard University, [CS 109](http://www.cs109.org/)"
   ]
  },
  {
   "cell_type": "markdown",
   "metadata": {},
   "source": [
    ">**\"Data science is the process of obtaining, transforming, analyzing, and communicating data to answer a question\"**\n",
    "\n",
    "> [Nwokedi C. Idika](https://medium.com/@nwokedi/machine-learning-isn-t-data-science-67cc66867dbc#.k9zyax4y2)"
   ]
  },
  {
   "cell_type": "markdown",
   "metadata": {},
   "source": [
    "## My heroes:"
   ]
  },
  {
   "cell_type": "markdown",
   "metadata": {},
   "source": [
    "![title](http://graphics8.nytimes.com/images/2013/03/24/nyregion/24DATA_SPAN/24jpDATA-popup.jpg)\n",
    "[Source](http://graphics8.nytimes.com/images/2013/03/24/nyregion/24DATA_SPAN/24jpDATA-popup.jpg)"
   ]
  },
  {
   "cell_type": "markdown",
   "metadata": {},
   "source": [
    "![title](http://i.huffpost.com/gen/2769516/original.jpg)\n",
    "[Source](http://i.huffpost.com/gen/2769516/original.jpg)"
   ]
  },
  {
   "cell_type": "markdown",
   "metadata": {},
   "source": [
    "![title](http://assets.nydailynews.com/polopoly_fs/1.1165545.1348356147!/img/httpImage/image.jpg_gen/derivatives/article_970/firetrap23n-2-web.jpg)\n",
    "[Source](http://assets.nydailynews.com/polopoly_fs/1.1165545.1348356147!/img/httpImage/image.jpg_gen/derivatives/article_970/firetrap23n-2-web.jpg)"
   ]
  },
  {
   "cell_type": "markdown",
   "metadata": {},
   "source": [
    "![title](http://static01.nyt.com/images/2013/03/18/nyregion/FIRE/FIRE-superJumbo.jpg)\n",
    "[Source](http://static01.nyt.com/images/2013/03/18/nyregion/FIRE/FIRE-superJumbo.jpg)"
   ]
  },
  {
   "cell_type": "markdown",
   "metadata": {},
   "source": [
    "![title](img/moda_roc_curves.jpg)"
   ]
  },
  {
   "cell_type": "markdown",
   "metadata": {},
   "source": [
    "![title](http://static1.squarespace.com/static/5150aec6e4b0e340ec52710a/t/51525c33e4b0b3e0d10f77ab/1364352052403/Data_Science_VD.png?format=750w)\n",
    "[Source](http://static1.squarespace.com/static/5150aec6e4b0e340ec52710a/t/51525c33e4b0b3e0d10f77ab/1364352052403/Data_Science_VD.png?format=750w)"
   ]
  },
  {
   "cell_type": "markdown",
   "metadata": {},
   "source": [
    ">**Mathematics is the logic of certainty, but statistics is the logic of uncertainty.**\n",
    "\n",
    "> Joe Blitzstein, Harvard University"
   ]
  },
  {
   "cell_type": "markdown",
   "metadata": {},
   "source": [
    "![title](img/overview_zipfian.jpg)\n",
    "[Source](http://zipfianacademy.com)"
   ]
  },
  {
   "cell_type": "markdown",
   "metadata": {
    "collapsed": true
   },
   "source": [
    "![title](http://nirvacana.com/thoughts/wp-content/uploads/2013/07/RoadToDataScientist1.png)\n",
    "[Source](http://nirvacana.com/thoughts/wp-content/uploads/2013/07/RoadToDataScientist1.png)\n"
   ]
  },
  {
   "cell_type": "markdown",
   "metadata": {},
   "source": [
    "### Tools"
   ]
  },
  {
   "cell_type": "code",
   "execution_count": 8,
   "metadata": {
    "collapsed": false
   },
   "outputs": [
    {
     "data": {
      "text/html": [
       "\n",
       "        <iframe\n",
       "            width=\"400\"\n",
       "            height=\"300\"\n",
       "            src=\"https://www.youtube.com/embed/kwt6XEh7U3g\"\n",
       "            frameborder=\"0\"\n",
       "            allowfullscreen\n",
       "        ></iframe>\n",
       "        "
      ],
      "text/plain": [
       "<IPython.lib.display.YouTubeVideo at 0xd5d7cf8630>"
      ]
     },
     "execution_count": 8,
     "metadata": {},
     "output_type": "execute_result"
    }
   ],
   "source": [
    "from IPython.display import YouTubeVideo\n",
    "YouTubeVideo('kwt6XEh7U3g')"
   ]
  },
  {
   "cell_type": "markdown",
   "metadata": {},
   "source": [
    "- Excel\n",
    "- [Google Refine](http://openrefine.org)"
   ]
  },
  {
   "cell_type": "markdown",
   "metadata": {},
   "source": [
    "> **So R or Python?**"
   ]
  },
  {
   "cell_type": "markdown",
   "metadata": {},
   "source": [
    "**Python:**"
   ]
  },
  {
   "cell_type": "code",
   "execution_count": 2,
   "metadata": {
    "collapsed": false
   },
   "outputs": [
    {
     "data": {
      "image/png": "[encoded data removed]",
      "text/plain": [
       "<matplotlib.figure.Figure at 0xd5d4fcb320>"
      ]
     },
     "metadata": {},
     "output_type": "display_data"
    }
   ],
   "source": [
    "from sklearn import datasets\n",
    "from sklearn.cross_validation import cross_val_predict\n",
    "from sklearn import linear_model\n",
    "import matplotlib.pyplot as plt\n",
    "%matplotlib inline\n",
    "\n",
    "# Don't show deprecation warnings this time\n",
    "import warnings\n",
    "warnings.filterwarnings(\"ignore\", category=DeprecationWarning) \n",
    "\n",
    "lr = linear_model.LinearRegression()\n",
    "boston = datasets.load_boston()\n",
    "y = boston.target\n",
    "\n",
    "# cross_val_predict returns an array of the same size as `y` where each entry\n",
    "# is a prediction obtained by cross validated:\n",
    "predicted = cross_val_predict(lr, boston.data, y, cv=10)\n",
    "\n",
    "fig, ax = plt.subplots()\n",
    "ax.scatter(y, predicted)\n",
    "ax.plot([y.min(), y.max()], [y.min(), y.max()], 'k--', lw=4)\n",
    "ax.set_xlabel('Measured')\n",
    "ax.set_ylabel('Predicted')\n",
    "plt.show()"
   ]
  },
  {
   "cell_type": "markdown",
   "metadata": {},
   "source": [
    "**R Studio:**\n",
    "    \n",
    "![title](http://wiki.awf.forst.uni-goettingen.de/wiki/images/f/f6/02-RStudio.jpg)"
   ]
  },
  {
   "cell_type": "markdown",
   "metadata": {},
   "source": [
    "- [R Shiny Example](http://shiny.rstudio.com/gallery/kmeans-example.html)"
   ]
  },
  {
   "cell_type": "markdown",
   "metadata": {},
   "source": [
    "**ggplot2 in R:**\n",
    "\n",
    "![title](img/ggplot2_example.png)"
   ]
  }
 ],
 "metadata": {
  "kernelspec": {
   "display_name": "Python 3",
   "language": "python",
   "name": "python3"
  },
  "language_info": {
   "codemirror_mode": {
    "name": "ipython",
    "version": 3
   },
   "file_extension": ".py",
   "mimetype": "text/x-python",
   "name": "python",
   "nbconvert_exporter": "python",
   "pygments_lexer": "ipython3",
   "version": "3.5.1"
  }
 },
 "nbformat": 4,
 "nbformat_minor": 0
}
